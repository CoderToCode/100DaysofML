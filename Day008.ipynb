{
 "cells": [
  {
   "cell_type": "markdown",
   "metadata": {},
   "source": [
    "# Converting Python 2 to Python 3 automatically!"
   ]
  },
  {
   "cell_type": "markdown",
   "metadata": {},
   "source": [
    "## Steps to convert\n",
    "- Save the file with python2 script\n",
    "- Run the following command in the command promt\n",
    "- \"python (path of the python2 file) (file name)\""
   ]
  },
  {
   "cell_type": "markdown",
   "metadata": {},
   "source": [
    "# Working with SQlite3"
   ]
  },
  {
   "cell_type": "markdown",
   "metadata": {},
   "source": [
    "## Importing SQlite3"
   ]
  },
  {
   "cell_type": "code",
   "execution_count": 1,
   "metadata": {},
   "outputs": [],
   "source": [
    "import sqlite3"
   ]
  },
  {
   "cell_type": "markdown",
   "metadata": {},
   "source": [
    "## Connection to the database"
   ]
  },
  {
   "cell_type": "code",
   "execution_count": 2,
   "metadata": {},
   "outputs": [],
   "source": [
    "conn = sqlite3.connect('Files/pydatabase1.db')\n",
    "c = conn.cursor()"
   ]
  },
  {
   "cell_type": "markdown",
   "metadata": {},
   "source": [
    "## Creating table"
   ]
  },
  {
   "cell_type": "code",
   "execution_count": 3,
   "metadata": {},
   "outputs": [],
   "source": [
    "def create_table():\n",
    "    c.execute(\"CREATE TABLE IF NOT EXISTS sampleTable(unix REAL, datestamp TEXT, keyword TEXT, value REAL)\")\n"
   ]
  },
  {
   "cell_type": "markdown",
   "metadata": {},
   "source": [
    "## Inserting values into the table"
   ]
  },
  {
   "cell_type": "code",
   "execution_count": 4,
   "metadata": {},
   "outputs": [],
   "source": [
    "def data_entry():\n",
    "    c.execute(\"INSERT INTO sampleTable VALUES(123456789, '2020-07-20', 'Python', 8)\")\n",
    "    conn.commit()"
   ]
  },
  {
   "cell_type": "code",
   "execution_count": 5,
   "metadata": {},
   "outputs": [],
   "source": [
    "create_table()\n",
    "data_entry()"
   ]
  },
  {
   "cell_type": "markdown",
   "metadata": {},
   "source": [
    "## Inserting variables into database table"
   ]
  },
  {
   "cell_type": "code",
   "execution_count": 6,
   "metadata": {},
   "outputs": [],
   "source": [
    "import time\n",
    "import datetime\n",
    "import random"
   ]
  },
  {
   "cell_type": "code",
   "execution_count": 7,
   "metadata": {},
   "outputs": [],
   "source": [
    "def dynamic_data_entry():\n",
    "    unix = time.time()\n",
    "    date = str(datetime.datetime.fromtimestamp(unix).strftime('%Y-%m-%d %H:%M:%S'))\n",
    "    keyword = 'Python'\n",
    "    value = random.randrange(0,10)\n",
    "    c.execute(\"INSERT INTO sampleTable (unix, datestamp, keyword, value) VALUES (?, ?, ?, ?)\",(unix, date, keyword, value))\n",
    "    conn.commit()"
   ]
  },
  {
   "cell_type": "code",
   "execution_count": 8,
   "metadata": {},
   "outputs": [],
   "source": [
    "for i in range(10):\n",
    "    dynamic_data_entry()\n",
    "    time.sleep(1)"
   ]
  },
  {
   "cell_type": "markdown",
   "metadata": {},
   "source": [
    "## Reading from database"
   ]
  },
  {
   "cell_type": "markdown",
   "metadata": {},
   "source": [
    "### Reading the entire database"
   ]
  },
  {
   "cell_type": "code",
   "execution_count": 9,
   "metadata": {},
   "outputs": [],
   "source": [
    "def read_from_db():\n",
    "    c.execute('SELECT * FROM sampleTable')\n",
    "    for row in c.fetchall():\n",
    "        print(row)"
   ]
  },
  {
   "cell_type": "code",
   "execution_count": 10,
   "metadata": {},
   "outputs": [
    {
     "name": "stdout",
     "output_type": "stream",
     "text": [
      "(123456789.0, '2020-07-20', 'Python', 8.0)\n",
      "(1595870468.1643956, '2020-07-27 22:51:08', 'Python', 0.0)\n",
      "(1595870470.1838937, '2020-07-27 22:51:10', 'Python', 4.0)\n",
      "(1595870471.1903734, '2020-07-27 22:51:11', 'Python', 6.0)\n",
      "(1595870473.317607, '2020-07-27 22:51:13', 'Python', 1.0)\n",
      "(1595870474.3251693, '2020-07-27 22:51:14', 'Python', 7.0)\n",
      "(1595870475.3322113, '2020-07-27 22:51:15', 'Python', 0.0)\n",
      "(1595870476.3403306, '2020-07-27 22:51:16', 'Python', 1.0)\n",
      "(1595870477.3495727, '2020-07-27 22:51:17', 'Python', 5.0)\n",
      "(1595870501.6498156, '2020-07-27 22:51:41', 'Python', 0.0)\n",
      "(1595870503.6637058, '2020-07-27 22:51:43', 'Python', 0.0)\n",
      "(1595870504.6707644, '2020-07-27 22:51:44', 'Python', 1.0)\n",
      "(1595870505.6778984, '2020-07-27 22:51:45', 'Python', 5.0)\n",
      "(1595870506.6848996, '2020-07-27 22:51:46', 'Python', 7.0)\n",
      "(1595870507.6922557, '2020-07-27 22:51:47', 'Python', 0.0)\n",
      "(1595870508.6997373, '2020-07-27 22:51:48', 'Python', 4.0)\n",
      "(1595870509.7071733, '2020-07-27 22:51:49', 'Python', 2.0)\n",
      "(123456789.0, '2020-07-20', 'Python', 8.0)\n",
      "(1595870760.2563221, '2020-07-27 22:56:00', 'Python', 7.0)\n",
      "(1595870761.26929, '2020-07-27 22:56:01', 'Python', 8.0)\n",
      "(1595870762.289131, '2020-07-27 22:56:02', 'Python', 7.0)\n",
      "(1595870763.3057315, '2020-07-27 22:56:03', 'Python', 0.0)\n",
      "(1595870764.3198223, '2020-07-27 22:56:04', 'Python', 8.0)\n",
      "(1595870765.3332942, '2020-07-27 22:56:05', 'Python', 7.0)\n",
      "(1595870766.3504193, '2020-07-27 22:56:06', 'Python', 4.0)\n",
      "(1595870767.3660042, '2020-07-27 22:56:07', 'Python', 6.0)\n",
      "(123456789.0, '2020-07-20', 'Python', 8.0)\n",
      "(1595873058.0478451, '2020-07-27 23:34:18', 'Python', 1.0)\n",
      "(1595873059.0801513, '2020-07-27 23:34:19', 'Python', 9.0)\n",
      "(1595873060.0862057, '2020-07-27 23:34:20', 'Python', 5.0)\n",
      "(1595873061.0931346, '2020-07-27 23:34:21', 'Python', 4.0)\n",
      "(1595873062.1001244, '2020-07-27 23:34:22', 'Python', 8.0)\n",
      "(1595873063.1070323, '2020-07-27 23:34:23', 'Python', 3.0)\n",
      "(1595873064.1137438, '2020-07-27 23:34:24', 'Python', 6.0)\n",
      "(1595873065.121141, '2020-07-27 23:34:25', 'Python', 3.0)\n",
      "(1595873066.1290474, '2020-07-27 23:34:26', 'Python', 1.0)\n",
      "(1595873067.1361485, '2020-07-27 23:34:27', 'Python', 2.0)\n"
     ]
    }
   ],
   "source": [
    "read_from_db()"
   ]
  },
  {
   "cell_type": "markdown",
   "metadata": {},
   "source": [
    "### Reading the database by filtering it"
   ]
  },
  {
   "cell_type": "code",
   "execution_count": 11,
   "metadata": {},
   "outputs": [
    {
     "name": "stdout",
     "output_type": "stream",
     "text": [
      "(1595873063.1070323, '2020-07-27 23:34:23', 'Python', 3.0)\n",
      "(1595873065.121141, '2020-07-27 23:34:25', 'Python', 3.0)\n"
     ]
    }
   ],
   "source": [
    "def read_from_db():\n",
    "    c.execute('SELECT * FROM sampleTable WHERE value=3')\n",
    "    for row in c.fetchall():\n",
    "        print(row)\n",
    "read_from_db()"
   ]
  },
  {
   "cell_type": "code",
   "execution_count": 12,
   "metadata": {},
   "outputs": [
    {
     "name": "stdout",
     "output_type": "stream",
     "text": [
      "(1595873063.1070323, '2020-07-27 23:34:23', 'Python', 3.0)\n",
      "(1595873065.121141, '2020-07-27 23:34:25', 'Python', 3.0)\n"
     ]
    }
   ],
   "source": [
    "def read_from_db():\n",
    "    c.execute(\"SELECT * FROM sampleTable WHERE value=3 AND keyword='Python'\")\n",
    "    for row in c.fetchall():\n",
    "        print(row)\n",
    "read_from_db()"
   ]
  },
  {
   "cell_type": "markdown",
   "metadata": {},
   "source": [
    "### Reading specific column"
   ]
  },
  {
   "cell_type": "code",
   "execution_count": 13,
   "metadata": {},
   "outputs": [
    {
     "name": "stdout",
     "output_type": "stream",
     "text": [
      "('Python',)\n",
      "('Python',)\n"
     ]
    }
   ],
   "source": [
    "def read_from_db():\n",
    "    c.execute(\"SELECT keyword FROM sampleTable WHERE value=3 AND keyword='Python'\")\n",
    "    for row in c.fetchall():\n",
    "        print(row)\n",
    "read_from_db()"
   ]
  },
  {
   "cell_type": "markdown",
   "metadata": {},
   "source": [
    "## Graph from database table"
   ]
  },
  {
   "cell_type": "code",
   "execution_count": 14,
   "metadata": {},
   "outputs": [],
   "source": [
    "import matplotlib.pyplot as plt\n",
    "import matplotlib.dates as madates\n",
    "from matplotlib import style\n",
    "style.use('fivethirtyeight')"
   ]
  },
  {
   "cell_type": "code",
   "execution_count": 15,
   "metadata": {},
   "outputs": [
    {
     "data": {
      "image/png": "[encoded data removed]",
      "text/plain": [
       "<Figure size 432x288 with 1 Axes>"
      ]
     },
     "metadata": {},
     "output_type": "display_data"
    }
   ],
   "source": [
    "def graph_data():\n",
    "    c.execute('SELECT unix, value from sampleTable')\n",
    "    dates = []\n",
    "    values = []\n",
    "    for row in c.fetchall():\n",
    "        dates.append(datetime.datetime.fromtimestamp(row[0]))\n",
    "        values.append(row[1])\n",
    "        \n",
    "    plt.plot_date(dates, values, '-')\n",
    "    plt.show()\n",
    "    \n",
    "graph_data()"
   ]
  },
  {
   "cell_type": "markdown",
   "metadata": {},
   "source": [
    "## UPDATE and DELETE"
   ]
  },
  {
   "cell_type": "code",
   "execution_count": 16,
   "metadata": {},
   "outputs": [],
   "source": [
    "def del_and_update():\n",
    "    print(20 * \"#\",\"Data before update\", 20 * \"#\")\n",
    "    \n",
    "    c.execute('SELECT * FROM sampleTable')\n",
    "    [print(row) for row in c.fetchall()]\n",
    "    \n",
    "    \n",
    "    c.execute('UPDATE sampleTable SET value = 12 WHERE value = 9')\n",
    "    conn.commit()\n",
    "    \n",
    "    print(20 * \"#\",\"Data after update\", 20 * \"#\")\n",
    "    \n",
    "    c.execute('SELECT * FROM sampleTable')\n",
    "    [print(row) for row in c.fetchall()]\n",
    "    \n",
    "    print(20 * \"#\",\"Data after delete\", 20 * \"#\")\n",
    "          \n",
    "    c.execute('DELETE FROM sampleTable where value = 12')\n",
    "    \n",
    "    c.execute('SELECT * FROM sampleTable')\n",
    "    [print(row) for row in c.fetchall()]\n",
    "    conn.commit()"
   ]
  },
  {
   "cell_type": "code",
   "execution_count": 17,
   "metadata": {},
   "outputs": [
    {
     "name": "stdout",
     "output_type": "stream",
     "text": [
      "#################### Data before update ####################\n",
      "(123456789.0, '2020-07-20', 'Python', 8.0)\n",
      "(1595870468.1643956, '2020-07-27 22:51:08', 'Python', 0.0)\n",
      "(1595870470.1838937, '2020-07-27 22:51:10', 'Python', 4.0)\n",
      "(1595870471.1903734, '2020-07-27 22:51:11', 'Python', 6.0)\n",
      "(1595870473.317607, '2020-07-27 22:51:13', 'Python', 1.0)\n",
      "(1595870474.3251693, '2020-07-27 22:51:14', 'Python', 7.0)\n",
      "(1595870475.3322113, '2020-07-27 22:51:15', 'Python', 0.0)\n",
      "(1595870476.3403306, '2020-07-27 22:51:16', 'Python', 1.0)\n",
      "(1595870477.3495727, '2020-07-27 22:51:17', 'Python', 5.0)\n",
      "(1595870501.6498156, '2020-07-27 22:51:41', 'Python', 0.0)\n",
      "(1595870503.6637058, '2020-07-27 22:51:43', 'Python', 0.0)\n",
      "(1595870504.6707644, '2020-07-27 22:51:44', 'Python', 1.0)\n",
      "(1595870505.6778984, '2020-07-27 22:51:45', 'Python', 5.0)\n",
      "(1595870506.6848996, '2020-07-27 22:51:46', 'Python', 7.0)\n",
      "(1595870507.6922557, '2020-07-27 22:51:47', 'Python', 0.0)\n",
      "(1595870508.6997373, '2020-07-27 22:51:48', 'Python', 4.0)\n",
      "(1595870509.7071733, '2020-07-27 22:51:49', 'Python', 2.0)\n",
      "(123456789.0, '2020-07-20', 'Python', 8.0)\n",
      "(1595870760.2563221, '2020-07-27 22:56:00', 'Python', 7.0)\n",
      "(1595870761.26929, '2020-07-27 22:56:01', 'Python', 8.0)\n",
      "(1595870762.289131, '2020-07-27 22:56:02', 'Python', 7.0)\n",
      "(1595870763.3057315, '2020-07-27 22:56:03', 'Python', 0.0)\n",
      "(1595870764.3198223, '2020-07-27 22:56:04', 'Python', 8.0)\n",
      "(1595870765.3332942, '2020-07-27 22:56:05', 'Python', 7.0)\n",
      "(1595870766.3504193, '2020-07-27 22:56:06', 'Python', 4.0)\n",
      "(1595870767.3660042, '2020-07-27 22:56:07', 'Python', 6.0)\n",
      "(123456789.0, '2020-07-20', 'Python', 8.0)\n",
      "(1595873058.0478451, '2020-07-27 23:34:18', 'Python', 1.0)\n",
      "(1595873059.0801513, '2020-07-27 23:34:19', 'Python', 9.0)\n",
      "(1595873060.0862057, '2020-07-27 23:34:20', 'Python', 5.0)\n",
      "(1595873061.0931346, '2020-07-27 23:34:21', 'Python', 4.0)\n",
      "(1595873062.1001244, '2020-07-27 23:34:22', 'Python', 8.0)\n",
      "(1595873063.1070323, '2020-07-27 23:34:23', 'Python', 3.0)\n",
      "(1595873064.1137438, '2020-07-27 23:34:24', 'Python', 6.0)\n",
      "(1595873065.121141, '2020-07-27 23:34:25', 'Python', 3.0)\n",
      "(1595873066.1290474, '2020-07-27 23:34:26', 'Python', 1.0)\n",
      "(1595873067.1361485, '2020-07-27 23:34:27', 'Python', 2.0)\n",
      "#################### Data after update ####################\n",
      "(123456789.0, '2020-07-20', 'Python', 8.0)\n",
      "(1595870468.1643956, '2020-07-27 22:51:08', 'Python', 0.0)\n",
      "(1595870470.1838937, '2020-07-27 22:51:10', 'Python', 4.0)\n",
      "(1595870471.1903734, '2020-07-27 22:51:11', 'Python', 6.0)\n",
      "(1595870473.317607, '2020-07-27 22:51:13', 'Python', 1.0)\n",
      "(1595870474.3251693, '2020-07-27 22:51:14', 'Python', 7.0)\n",
      "(1595870475.3322113, '2020-07-27 22:51:15', 'Python', 0.0)\n",
      "(1595870476.3403306, '2020-07-27 22:51:16', 'Python', 1.0)\n",
      "(1595870477.3495727, '2020-07-27 22:51:17', 'Python', 5.0)\n",
      "(1595870501.6498156, '2020-07-27 22:51:41', 'Python', 0.0)\n",
      "(1595870503.6637058, '2020-07-27 22:51:43', 'Python', 0.0)\n",
      "(1595870504.6707644, '2020-07-27 22:51:44', 'Python', 1.0)\n",
      "(1595870505.6778984, '2020-07-27 22:51:45', 'Python', 5.0)\n",
      "(1595870506.6848996, '2020-07-27 22:51:46', 'Python', 7.0)\n",
      "(1595870507.6922557, '2020-07-27 22:51:47', 'Python', 0.0)\n",
      "(1595870508.6997373, '2020-07-27 22:51:48', 'Python', 4.0)\n",
      "(1595870509.7071733, '2020-07-27 22:51:49', 'Python', 2.0)\n",
      "(123456789.0, '2020-07-20', 'Python', 8.0)\n",
      "(1595870760.2563221, '2020-07-27 22:56:00', 'Python', 7.0)\n",
      "(1595870761.26929, '2020-07-27 22:56:01', 'Python', 8.0)\n",
      "(1595870762.289131, '2020-07-27 22:56:02', 'Python', 7.0)\n",
      "(1595870763.3057315, '2020-07-27 22:56:03', 'Python', 0.0)\n",
      "(1595870764.3198223, '2020-07-27 22:56:04', 'Python', 8.0)\n",
      "(1595870765.3332942, '2020-07-27 22:56:05', 'Python', 7.0)\n",
      "(1595870766.3504193, '2020-07-27 22:56:06', 'Python', 4.0)\n",
      "(1595870767.3660042, '2020-07-27 22:56:07', 'Python', 6.0)\n",
      "(123456789.0, '2020-07-20', 'Python', 8.0)\n",
      "(1595873058.0478451, '2020-07-27 23:34:18', 'Python', 1.0)\n",
      "(1595873059.0801513, '2020-07-27 23:34:19', 'Python', 12.0)\n",
      "(1595873060.0862057, '2020-07-27 23:34:20', 'Python', 5.0)\n",
      "(1595873061.0931346, '2020-07-27 23:34:21', 'Python', 4.0)\n",
      "(1595873062.1001244, '2020-07-27 23:34:22', 'Python', 8.0)\n",
      "(1595873063.1070323, '2020-07-27 23:34:23', 'Python', 3.0)\n",
      "(1595873064.1137438, '2020-07-27 23:34:24', 'Python', 6.0)\n",
      "(1595873065.121141, '2020-07-27 23:34:25', 'Python', 3.0)\n",
      "(1595873066.1290474, '2020-07-27 23:34:26', 'Python', 1.0)\n",
      "(1595873067.1361485, '2020-07-27 23:34:27', 'Python', 2.0)\n",
      "#################### Data after delete ####################\n",
      "(123456789.0, '2020-07-20', 'Python', 8.0)\n",
      "(1595870468.1643956, '2020-07-27 22:51:08', 'Python', 0.0)\n",
      "(1595870470.1838937, '2020-07-27 22:51:10', 'Python', 4.0)\n",
      "(1595870471.1903734, '2020-07-27 22:51:11', 'Python', 6.0)\n",
      "(1595870473.317607, '2020-07-27 22:51:13', 'Python', 1.0)\n",
      "(1595870474.3251693, '2020-07-27 22:51:14', 'Python', 7.0)\n",
      "(1595870475.3322113, '2020-07-27 22:51:15', 'Python', 0.0)\n",
      "(1595870476.3403306, '2020-07-27 22:51:16', 'Python', 1.0)\n",
      "(1595870477.3495727, '2020-07-27 22:51:17', 'Python', 5.0)\n",
      "(1595870501.6498156, '2020-07-27 22:51:41', 'Python', 0.0)\n",
      "(1595870503.6637058, '2020-07-27 22:51:43', 'Python', 0.0)\n",
      "(1595870504.6707644, '2020-07-27 22:51:44', 'Python', 1.0)\n",
      "(1595870505.6778984, '2020-07-27 22:51:45', 'Python', 5.0)\n",
      "(1595870506.6848996, '2020-07-27 22:51:46', 'Python', 7.0)\n",
      "(1595870507.6922557, '2020-07-27 22:51:47', 'Python', 0.0)\n",
      "(1595870508.6997373, '2020-07-27 22:51:48', 'Python', 4.0)\n",
      "(1595870509.7071733, '2020-07-27 22:51:49', 'Python', 2.0)\n",
      "(123456789.0, '2020-07-20', 'Python', 8.0)\n",
      "(1595870760.2563221, '2020-07-27 22:56:00', 'Python', 7.0)\n",
      "(1595870761.26929, '2020-07-27 22:56:01', 'Python', 8.0)\n",
      "(1595870762.289131, '2020-07-27 22:56:02', 'Python', 7.0)\n",
      "(1595870763.3057315, '2020-07-27 22:56:03', 'Python', 0.0)\n",
      "(1595870764.3198223, '2020-07-27 22:56:04', 'Python', 8.0)\n",
      "(1595870765.3332942, '2020-07-27 22:56:05', 'Python', 7.0)\n",
      "(1595870766.3504193, '2020-07-27 22:56:06', 'Python', 4.0)\n",
      "(1595870767.3660042, '2020-07-27 22:56:07', 'Python', 6.0)\n",
      "(123456789.0, '2020-07-20', 'Python', 8.0)\n",
      "(1595873058.0478451, '2020-07-27 23:34:18', 'Python', 1.0)\n",
      "(1595873060.0862057, '2020-07-27 23:34:20', 'Python', 5.0)\n",
      "(1595873061.0931346, '2020-07-27 23:34:21', 'Python', 4.0)\n",
      "(1595873062.1001244, '2020-07-27 23:34:22', 'Python', 8.0)\n",
      "(1595873063.1070323, '2020-07-27 23:34:23', 'Python', 3.0)\n",
      "(1595873064.1137438, '2020-07-27 23:34:24', 'Python', 6.0)\n",
      "(1595873065.121141, '2020-07-27 23:34:25', 'Python', 3.0)\n",
      "(1595873066.1290474, '2020-07-27 23:34:26', 'Python', 1.0)\n",
      "(1595873067.1361485, '2020-07-27 23:34:27', 'Python', 2.0)\n"
     ]
    }
   ],
   "source": [
    "del_and_update()"
   ]
  },
  {
   "cell_type": "code",
   "execution_count": 18,
   "metadata": {},
   "outputs": [],
   "source": [
    "c.close()\n",
    "conn.close()"
   ]
  }
 ],
 "metadata": {
  "kernelspec": {
   "display_name": "Python 3",
   "language": "python",
   "name": "python3"
  },
  "language_info": {
   "codemirror_mode": {
    "name": "ipython",
    "version": 3
   },
   "file_extension": ".py",
   "mimetype": "text/x-python",
   "name": "python",
   "nbconvert_exporter": "python",
   "pygments_lexer": "ipython3",
   "version": "3.8.2"
  }
 },
 "nbformat": 4,
 "nbformat_minor": 4
}
