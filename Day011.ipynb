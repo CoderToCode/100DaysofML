{
 "cells": [
  {
   "cell_type": "markdown",
   "metadata": {},
   "source": [
    "# Socket"
   ]
  },
  {
   "cell_type": "code",
   "execution_count": 1,
   "metadata": {},
   "outputs": [],
   "source": [
    "import socket"
   ]
  },
  {
   "cell_type": "code",
   "execution_count": 2,
   "metadata": {},
   "outputs": [
    {
     "name": "stdout",
     "output_type": "stream",
     "text": [
      "<socket.socket fd=52, family=AddressFamily.AF_INET, type=SocketKind.SOCK_STREAM, proto=0, laddr=('0.0.0.0', 0)>\n"
     ]
    }
   ],
   "source": [
    "s = socket.socket(socket.AF_INET,socket.SOCK_STREAM)\n",
    "print(s)"
   ]
  },
  {
   "cell_type": "markdown",
   "metadata": {},
   "source": [
    "# Connecting to server"
   ]
  },
  {
   "cell_type": "code",
   "execution_count": 3,
   "metadata": {},
   "outputs": [],
   "source": [
    "server = 'pythonprogramming.net'\n",
    "port = 80"
   ]
  },
  {
   "cell_type": "code",
   "execution_count": 4,
   "metadata": {},
   "outputs": [
    {
     "name": "stdout",
     "output_type": "stream",
     "text": [
      "104.237.143.20\n"
     ]
    }
   ],
   "source": [
    "server_ip = socket.gethostbyname(server)\n",
    "print(server_ip)"
   ]
  },
  {
   "cell_type": "code",
   "execution_count": 5,
   "metadata": {},
   "outputs": [],
   "source": [
    "request = \"GET / HTTP/1.1\\nHost: \" + server + \"\\n\\n\"\n",
    "\n",
    "s.connect((server,port))\n",
    "s.send(request.encode())\n",
    "\n",
    "result = s.recv(4096)"
   ]
  },
  {
   "cell_type": "code",
   "execution_count": 6,
   "metadata": {},
   "outputs": [
    {
     "name": "stdout",
     "output_type": "stream",
     "text": [
      "b'HTTP/1.1 301 Moved Permanently\\r\\nDate: Thu, 30 Jul 2020 19:14:43 GMT\\r\\nServer: Apache/2.4.10 (Ubuntu)\\r\\nLocation: https://pythonprogramming.net/\\r\\nContent-Length: 325\\r\\nContent-Type: text/html; charset=iso-8859-1\\r\\n\\r\\n<!DOCTYPE HTML PUBLIC \"-//IETF//DTD HTML 2.0//EN\">\\n<html><head>\\n<title>301 Moved Permanently</title>\\n</head><body>\\n<h1>Moved Permanently</h1>\\n<p>The document has moved <a href=\"https://pythonprogramming.net/\">here</a>.</p>\\n<hr>\\n<address>Apache/2.4.10 (Ubuntu) Server at pythonprogramming.net Port 80</address>\\n</body></html>\\n'\n"
     ]
    }
   ],
   "source": [
    " print(result)"
   ]
  },
  {
   "cell_type": "code",
   "execution_count": 7,
   "metadata": {},
   "outputs": [
    {
     "name": "stdout",
     "output_type": "stream",
     "text": [
      "b'HTTP/1.1 301 Moved Permanently\\r\\nDate: Thu, 30 Jul 2020 19:14:43 GMT\\r\\nServer: Apache/2.4.10 (Ubuntu)\\r\\nLocation: https://pythonprogramming.net/\\r\\nContent-Length: 325\\r\\nContent-Type: text/html; charset=iso-8859-1\\r\\n\\r\\n<!DOCTYPE HTML PUBLIC \"-//IETF//DTD HTML 2.0//EN\">\\n<html><head>\\n<title>301 Moved Permanently</title>\\n</head><body>\\n<h1>Moved Permanently</h1>\\n<p>The document has moved <a href=\"https://pythonprogramming.net/\">here</a>.</p>\\n<hr>\\n<address>Apache/2.4.10 (Ubuntu) Server at pythonprogramming.net Port 80</address>\\n</body></html>\\n'\n"
     ]
    }
   ],
   "source": [
    "while (len(result) > 0):\n",
    "    print(result)\n",
    "    result = s.recv(1024)"
   ]
  },
  {
   "cell_type": "markdown",
   "metadata": {},
   "source": [
    "# Port Scanner"
   ]
  },
  {
   "cell_type": "code",
   "execution_count": 8,
   "metadata": {
    "scrolled": true
   },
   "outputs": [
    {
     "name": "stdout",
     "output_type": "stream",
     "text": [
      "Port 1 is closed\n",
      "Port 2 is closed\n",
      "Port 3 is closed\n",
      "Port 4 is closed\n",
      "Port 5 is closed\n",
      "Port 6 is closed\n",
      "Port 7 is closed\n",
      "Port 8 is closed\n",
      "Port 9 is closed\n",
      "Port 10 is closed\n",
      "Port 11 is closed\n",
      "Port 12 is closed\n",
      "Port 13 is closed\n",
      "Port 14 is closed\n",
      "Port 15 is closed\n",
      "Port 16 is closed\n",
      "Port 17 is closed\n",
      "Port 18 is closed\n",
      "Port 19 is closed\n",
      "Port 20 is closed\n",
      "Port 21 is closed\n",
      "Port 22 is closed\n",
      "Port 23 is closed\n",
      "Port 24 is closed\n",
      "Port 25 is closed\n"
     ]
    }
   ],
   "source": [
    "def pscan(port):\n",
    "    try:\n",
    "        s.connect((server,port))\n",
    "        return True\n",
    "    except:\n",
    "        return False\n",
    "\n",
    "for x in range(1,26):\n",
    "    if pscan(x):\n",
    "        print(\"Post\",x,\"is-open\")\n",
    "    else:\n",
    "        print(\"Port\",x,\"is closed\")"
   ]
  },
  {
   "cell_type": "markdown",
   "metadata": {},
   "source": [
    "# Threaded port scanner"
   ]
  },
  {
   "cell_type": "code",
   "execution_count": 9,
   "metadata": {},
   "outputs": [],
   "source": [
    "import threading\n",
    "from queue import Queue\n",
    "import time"
   ]
  },
  {
   "cell_type": "code",
   "execution_count": 10,
   "metadata": {},
   "outputs": [],
   "source": [
    "print_lock = threading.Lock()"
   ]
  },
  {
   "cell_type": "code",
   "execution_count": 11,
   "metadata": {},
   "outputs": [],
   "source": [
    "target = \"pythonprogramming.net\""
   ]
  },
  {
   "cell_type": "code",
   "execution_count": 12,
   "metadata": {},
   "outputs": [],
   "source": [
    "def portscan(port):\n",
    "    s = socket.socket(socket.AF_INET,socket.SOCK_STREAM)\n",
    "    try:\n",
    "        con= s.connect((target,port))\n",
    "        with print_lock:\n",
    "            print(\"port\",port,\"is open\")\n",
    "        con.close()\n",
    "    except:\n",
    "        pass"
   ]
  },
  {
   "cell_type": "code",
   "execution_count": 13,
   "metadata": {},
   "outputs": [],
   "source": [
    "def threader():\n",
    "    while True:\n",
    "        worker = q.get()\n",
    "        portscan(worker)\n",
    "        q.task_done()"
   ]
  },
  {
   "cell_type": "code",
   "execution_count": 14,
   "metadata": {},
   "outputs": [],
   "source": [
    "q = Queue()\n",
    "\n",
    "for x in range(30):\n",
    "    t = threading.Thread(target = threader)\n",
    "    t.daemon = True\n",
    "    t.start()"
   ]
  },
  {
   "cell_type": "code",
   "execution_count": 15,
   "metadata": {},
   "outputs": [
    {
     "name": "stdout",
     "output_type": "stream",
     "text": [
      "port 22 is open\n",
      "port 80 is open\n"
     ]
    }
   ],
   "source": [
    "for worker in range(1,101):\n",
    "    q.put(worker)\n",
    "    \n",
    "q.join()"
   ]
  },
  {
   "cell_type": "markdown",
   "metadata": {},
   "source": [
    "# Sockets Binding and listening"
   ]
  },
  {
   "cell_type": "code",
   "execution_count": 16,
   "metadata": {},
   "outputs": [],
   "source": [
    "import sys"
   ]
  },
  {
   "cell_type": "code",
   "execution_count": 17,
   "metadata": {},
   "outputs": [],
   "source": [
    "host = \"\"\n",
    "port = 5555\n",
    "\n",
    "s = socket.socket(socket.AF_INET,socket.SOCK_STREAM)"
   ]
  },
  {
   "cell_type": "code",
   "execution_count": 18,
   "metadata": {},
   "outputs": [],
   "source": [
    "try:\n",
    "    s.bind((host, port))\n",
    "except socket.error as e:\n",
    "    print(str(e))"
   ]
  },
  {
   "cell_type": "code",
   "execution_count": null,
   "metadata": {},
   "outputs": [],
   "source": [
    "s.listen(5)\n",
    "conn, addr = s.accept()"
   ]
  },
  {
   "cell_type": "code",
   "execution_count": null,
   "metadata": {},
   "outputs": [],
   "source": [
    "print(\"Connected to: \" + addr[0] + \":\" + str(addr[1]))"
   ]
  },
  {
   "cell_type": "markdown",
   "metadata": {},
   "source": [
    "# Sockets: Client and system"
   ]
  },
  {
   "cell_type": "code",
   "execution_count": null,
   "metadata": {},
   "outputs": [],
   "source": [
    "from _thread import 8\n",
    "\n",
    "def threaded_client(conn):\n",
    "    conn.send(str.encode(\"welcome, please type your info\\n\"))\n",
    "    \n",
    "    while True:\n",
    "        data = conn.recv(2048)\n",
    "        reply = \"Server output: \" + data.decode('utf-8')\n",
    "        if not data:\n",
    "            break\n",
    "        conn.sendall(str.encode(reply))\n",
    "    conn.close()"
   ]
  },
  {
   "cell_type": "code",
   "execution_count": null,
   "metadata": {},
   "outputs": [],
   "source": [
    "while True:\n",
    "    conn, addr = s.accept()\n",
    "    print(\"Connected to: \" + addr[0] + \":\" + str(addr[1]))\n",
    "    \n",
    "    start_new_thread(threaded_client,(conn,))"
   ]
  }
 ],
 "metadata": {
  "kernelspec": {
   "display_name": "Python 3",
   "language": "python",
   "name": "python3"
  },
  "language_info": {
   "codemirror_mode": {
    "name": "ipython",
    "version": 3
   },
   "file_extension": ".py",
   "mimetype": "text/x-python",
   "name": "python",
   "nbconvert_exporter": "python",
   "pygments_lexer": "ipython3",
   "version": "3.8.2"
  }
 },
 "nbformat": 4,
 "nbformat_minor": 4
}
